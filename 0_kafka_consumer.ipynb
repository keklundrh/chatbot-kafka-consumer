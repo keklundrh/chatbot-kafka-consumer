{
 "cells": [
  {
   "cell_type": "markdown",
   "id": "52672fc5-9aca-4497-8c72-3f9ebdc9730e",
   "metadata": {},
   "source": [
    "# Step 0: Connect to Kafka\n",
    "Let's make sure our infrastructure is behaving before we jump into this tutorial. \n",
    "\n",
    "We'll use this notebook to connect to our Kafka queue using the environment variables we included when spawning our environment. \n",
    "\n",
    "## Environment Setup \n",
    "Let's use pip to install our preferred software packages, import them, and assign our Environment Variables we included when spawning our notebook."
   ]
  },
  {
   "cell_type": "code",
   "execution_count": null,
   "id": "2275cc5b-c340-4efb-9a99-e064a46fc6c4",
   "metadata": {},
   "outputs": [],
   "source": [
    "!pip install -U -r requirements.txt"
   ]
  },
  {
   "cell_type": "code",
   "execution_count": null,
   "id": "739d3a48-5ae7-4864-918a-465c751483eb",
   "metadata": {},
   "outputs": [],
   "source": [
    "import os\n",
    "from kafka import KafkaConsumer"
   ]
  },
  {
   "cell_type": "code",
   "execution_count": null,
   "id": "22cc21cc-bf09-4532-ae10-fbe31080c07d",
   "metadata": {},
   "outputs": [],
   "source": [
    "KAFKA_BOOTSTRAP_SERVER = os.environ.get('KAFKA_BOOTSTRAP_SERVER')\n",
    "KAFKA_SECURITY_PROTOCOL = os.environ.get('KAFKA_SECURITY_PROTOCOL')\n",
    "KAFKA_SASL_MECHANISM = os.environ.get('KAFKA_SASL_MECHANISM')\n",
    "KAFKA_USERNAME = os.environ.get('KAFKA_USERNAME')\n",
    "KAFKA_PASSWORD = os.environ.get('KAFKA_PASSWORD')\n",
    "\n",
    "KAFKA_TOPIC_NOTEBOOKS = 'messages'\n",
    "KAFKA_CONSUMER_GROUP = 'messages-consumer'"
   ]
  },
  {
   "cell_type": "markdown",
   "id": "87cc028f-592f-4d34-b2d5-3b35b9c2294f",
   "metadata": {},
   "source": [
    "## Consume messages from your Kafka Topic\n",
    "Let's create a function called `create_consumer_print`. \n",
    "This function uses the `KafkaConsumer` function to connect to our Kafka cluster and print messages to the screen. "
   ]
  },
  {
   "cell_type": "code",
   "execution_count": null,
   "id": "6e7c2107-7e8c-42ce-b6e0-786ee49c8301",
   "metadata": {},
   "outputs": [],
   "source": [
    "def create_consumer_print():\n",
    "    consumer = KafkaConsumer(KAFKA_TOPIC_NOTEBOOKS,\n",
    "                             group_id=KAFKA_CONSUMER_GROUP,\n",
    "                             bootstrap_servers=[KAFKA_BOOTSTRAP_SERVER],\n",
    "                             security_protocol=KAFKA_SECURITY_PROTOCOL,\n",
    "                             sasl_mechanism=KAFKA_SASL_MECHANISM,\n",
    "                             sasl_plain_username=KAFKA_USERNAME,\n",
    "                             sasl_plain_password=KAFKA_PASSWORD,\n",
    "                             auto_offset_reset='earliest',\n",
    "                             api_version_auto_timeout_ms=30000,\n",
    "                             request_timeout_ms=450000)\n",
    "\n",
    "    print(f'Subscribed to \"{KAFKA_BOOTSTRAP_SERVER}\" consuming topic \"{KAFKA_TOPIC_NOTEBOOKS}\"...')\n",
    "\n",
    "    try:\n",
    "        for record in consumer:\n",
    "            msg = record.value.decode('utf-8')\n",
    "            topic = record.topic\n",
    "            print(('Received the following message on the '\n",
    "                   f'topic \"{topic}\": {msg}'))\n",
    "\n",
    "    finally:\n",
    "        print(\"Closing consumer...\")\n",
    "        consumer.close()\n",
    "    print(\"Kafka consumer stopped.\")"
   ]
  },
  {
   "cell_type": "markdown",
   "id": "6315f4c0-333d-4d12-b94d-67267780f42b",
   "metadata": {},
   "source": [
    "Your Kafka topic probably doesn't have any messages on it yet so you'll just see a message saying `Subscribed to \"[the-name-of-your-kafka-host]\" consuming topic \"messages\"...`. \n",
    "That's ok! \n",
    "\n",
    "We'll publish a message in the next notebook. \n",
    "Flip back to this notebook to see it displayed! "
   ]
  },
  {
   "cell_type": "code",
   "execution_count": null,
   "id": "7aadc958-2681-49bf-99bd-cef2a93d20d5",
   "metadata": {},
   "outputs": [],
   "source": [
    "try:\n",
    "    create_consumer_print()\n",
    "except KeyboardInterrupt:\n",
    "    print('Stopped')"
   ]
  },
  {
   "cell_type": "markdown",
   "id": "a780e4aa-875a-4ad7-92fe-a26945d3f45d",
   "metadata": {},
   "source": [
    "## Next\n",
    "Awesome. \n",
    "Let's publish some messages: [1_kafka_producer.ipynb](1_kafka_producer.ipynb)"
   ]
  }
 ],
 "metadata": {
  "kernelspec": {
   "display_name": "Python 3 (ipykernel)",
   "language": "python",
   "name": "python3"
  },
  "language_info": {
   "codemirror_mode": {
    "name": "ipython",
    "version": 3
   },
   "file_extension": ".py",
   "mimetype": "text/x-python",
   "name": "python",
   "nbconvert_exporter": "python",
   "pygments_lexer": "ipython3",
   "version": "3.9.6"
  }
 },
 "nbformat": 4,
 "nbformat_minor": 5
}
