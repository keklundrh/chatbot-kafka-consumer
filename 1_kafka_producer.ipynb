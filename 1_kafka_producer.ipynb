{
 "cells": [
  {
   "cell_type": "markdown",
   "id": "90021c2d-b6b8-4e2d-a10f-6e420a0a7ca1",
   "metadata": {},
   "source": [
    "# Step 1: Sending Messages \n",
    "Now that we are consuming our Kafka topic, let's drop some messages in there and confirm things are working.\n",
    "\n",
    "## Environment Setup\n",
    "You know what to do...."
   ]
  },
  {
   "cell_type": "code",
   "execution_count": null,
   "id": "9719508e-7ed6-4032-ab66-ce502be3b67e",
   "metadata": {},
   "outputs": [],
   "source": [
    "!pip install -U -r requirements.txt"
   ]
  },
  {
   "cell_type": "code",
   "execution_count": null,
   "id": "bb784f59-af73-4795-934d-22a01c19cbba",
   "metadata": {},
   "outputs": [],
   "source": [
    "import os\n",
    "import json\n",
    "import time\n",
    "from kafka import KafkaProducer"
   ]
  },
  {
   "cell_type": "code",
   "execution_count": null,
   "id": "d7dbc9b4-a36d-4eb2-960a-8c6e57d89400",
   "metadata": {},
   "outputs": [],
   "source": [
    "KAFKA_BOOTSTRAP_SERVER = os.environ.get('KAFKA_BOOTSTRAP_SERVER')\n",
    "KAFKA_SECURITY_PROTOCOL = os.environ.get('KAFKA_SECURITY_PROTOCOL')\n",
    "KAFKA_SASL_MECHANISM = os.environ.get('KAFKA_SASL_MECHANISM')\n",
    "KAFKA_USERNAME = os.environ.get('KAFKA_USERNAME')\n",
    "KAFKA_PASSWORD = os.environ.get('KAFKA_PASSWORD')\n",
    "\n",
    "KAFKA_TOPIC_NOTEBOOKS = 'messages'"
   ]
  },
  {
   "cell_type": "markdown",
   "id": "c14a3661-3a81-4679-b98a-4286b043be74",
   "metadata": {},
   "source": [
    "## The \"chatbot\"\n",
    "Our demo \"chatbot\" is the hello world of chatbots. \n",
    "It simply repeats everything you say, but don't worry, we gave you the best customer id out there.\n",
    "\n",
    "It's just a wrapper around the `KafkaProducer` function to connect to Kafka and let us interactively send raw text. "
   ]
  },
  {
   "cell_type": "code",
   "execution_count": null,
   "id": "3e3b380d-07ac-4518-86ba-c1d1f8593508",
   "metadata": {},
   "outputs": [],
   "source": [
    "def chatbot(customer_number, delay=1):\n",
    "    producer = KafkaProducer(bootstrap_servers=[KAFKA_BOOTSTRAP_SERVER],\n",
    "                             security_protocol=KAFKA_SECURITY_PROTOCOL,\n",
    "                             sasl_mechanism=KAFKA_SASL_MECHANISM,\n",
    "                             sasl_plain_username=KAFKA_USERNAME,\n",
    "                             sasl_plain_password=KAFKA_PASSWORD,\n",
    "                             api_version_auto_timeout_ms=30000,\n",
    "                             max_block_ms=900000,\n",
    "                             request_timeout_ms=450000,\n",
    "                             acks='all')\n",
    "\n",
    "    chat = '' \n",
    "    while(chat != '/q'):\n",
    "        chat = input(\"me: \")\n",
    "        print(\"chatbot: %s\" % chat)\n",
    "        jsonpayload = json.dumps({'customer_number': customer_number, 'txt': chat})\n",
    "        producer.send(KAFKA_TOPIC_NOTEBOOKS, jsonpayload.encode('utf-8'))\n",
    "    \n",
    "    producer.flush()  # Important, especially if message size is small"
   ]
  },
  {
   "cell_type": "code",
   "execution_count": null,
   "id": "ddd5d19e-d6a7-4ac1-ab3f-71f4126523b3",
   "metadata": {
    "tags": []
   },
   "outputs": [],
   "source": [
    "customer_number = 42\n",
    "chatbot(42)"
   ]
  },
  {
   "cell_type": "markdown",
   "id": "705115c5-65bf-4fef-92d5-64b92a1d8e9a",
   "metadata": {},
   "source": [
    "**Flip** back to our last [notebook](0_kafka_consumer.ipynb) to confirm things are hooked up correctly.\n",
    "You should see the message you just entered displayed below `Subscribed to \"[the-name-of-your-kafka-host]\" consuming topic \"messages\"...`."
   ]
  },
  {
   "cell_type": "markdown",
   "id": "3f719f34-4a20-4970-a2a3-6f6263ab1fb8",
   "metadata": {},
   "source": [
    "## Next \n",
    "Don't worry. \n",
    "You don't need to populate all the messages for this demo. \n",
    "We'll do that in the next notebook: [2_kafka_prepopulate.ipynb](2_kafka_prepopulate.ipynb)"
   ]
  }
 ],
 "metadata": {
  "kernelspec": {
   "display_name": "Python 3 (ipykernel)",
   "language": "python",
   "name": "python3"
  },
  "language_info": {
   "codemirror_mode": {
    "name": "ipython",
    "version": 3
   },
   "file_extension": ".py",
   "mimetype": "text/x-python",
   "name": "python",
   "nbconvert_exporter": "python",
   "pygments_lexer": "ipython3",
   "version": "3.9.6"
  }
 },
 "nbformat": 4,
 "nbformat_minor": 5
}
