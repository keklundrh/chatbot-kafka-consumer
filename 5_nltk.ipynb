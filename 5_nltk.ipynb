{
 "cells": [
  {
   "cell_type": "markdown",
   "id": "e801f98f-0ff4-4507-b409-91ea62609b91",
   "metadata": {},
   "source": [
    "# Step 5: Build a Model\n",
    "Now that you have immediate access to clean data, let the model building process begin! \n",
    "\n",
    "## Exercise for the Reader:\n",
    "You know what to do...._build a model!_"
   ]
  },
  {
   "cell_type": "code",
   "execution_count": null,
   "id": "d55f2b65-f69b-4271-bf4e-3d555b7b185f",
   "metadata": {},
   "outputs": [],
   "source": [
    "!pip install -U -r requirements.txt"
   ]
  },
  {
   "cell_type": "code",
   "execution_count": null,
   "id": "2470a98b-3dcb-4528-a986-1eee7654a7b6",
   "metadata": {},
   "outputs": [],
   "source": [
    "import nltk"
   ]
  },
  {
   "cell_type": "code",
   "execution_count": null,
   "id": "3a6148b4-58ae-4a96-9527-877f10cda069",
   "metadata": {},
   "outputs": [],
   "source": []
  }
 ],
 "metadata": {
  "kernelspec": {
   "display_name": "Python 3 (ipykernel)",
   "language": "python",
   "name": "python3"
  },
  "language_info": {
   "codemirror_mode": {
    "name": "ipython",
    "version": 3
   },
   "file_extension": ".py",
   "mimetype": "text/x-python",
   "name": "python",
   "nbconvert_exporter": "python",
   "pygments_lexer": "ipython3",
   "version": "3.9.6"
  }
 },
 "nbformat": 4,
 "nbformat_minor": 5
}
