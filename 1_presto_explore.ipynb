{
 "cells": [
  {
   "cell_type": "code",
   "execution_count": 1,
   "id": "1781226a-7dd3-464f-81e7-51ebde09bb1d",
   "metadata": {},
   "outputs": [
    {
     "name": "stdout",
     "output_type": "stream",
     "text": [
      "Requirement already satisfied: presto-python-client in /opt/app-root/lib/python3.8/site-packages (0.7.0)\n",
      "Requirement already satisfied: requests in /opt/app-root/lib/python3.8/site-packages (from presto-python-client) (2.25.1)\n",
      "Requirement already satisfied: six in /opt/app-root/lib/python3.8/site-packages (from presto-python-client) (1.15.0)\n",
      "Requirement already satisfied: click in /opt/app-root/lib/python3.8/site-packages (from presto-python-client) (7.1.2)\n",
      "Requirement already satisfied: certifi>=2017.4.17 in /opt/app-root/lib/python3.8/site-packages (from requests->presto-python-client) (2020.12.5)\n",
      "Requirement already satisfied: chardet<5,>=3.0.2 in /opt/app-root/lib/python3.8/site-packages (from requests->presto-python-client) (4.0.0)\n",
      "Requirement already satisfied: idna<3,>=2.5 in /opt/app-root/lib/python3.8/site-packages (from requests->presto-python-client) (2.10)\n",
      "Requirement already satisfied: urllib3<1.27,>=1.21.1 in /opt/app-root/lib/python3.8/site-packages (from requests->presto-python-client) (1.26.4)\n",
      "\u001b[33mWARNING: You are using pip version 20.3.3; however, version 21.1.2 is available.\n",
      "You should consider upgrading via the '/opt/app-root/bin/python3.8 -m pip install --upgrade pip' command.\u001b[0m\n",
      "Requirement already satisfied: pandas in /opt/app-root/lib/python3.8/site-packages (1.2.5)\n",
      "Requirement already satisfied: numpy>=1.16.5 in /opt/app-root/lib/python3.8/site-packages (from pandas) (1.19.5)\n",
      "Requirement already satisfied: pytz>=2017.3 in /opt/app-root/lib/python3.8/site-packages (from pandas) (2021.1)\n",
      "Requirement already satisfied: python-dateutil>=2.7.3 in /opt/app-root/lib/python3.8/site-packages (from pandas) (2.8.1)\n",
      "Requirement already satisfied: six>=1.5 in /opt/app-root/lib/python3.8/site-packages (from python-dateutil>=2.7.3->pandas) (1.15.0)\n",
      "\u001b[33mWARNING: You are using pip version 20.3.3; however, version 21.1.2 is available.\n",
      "You should consider upgrading via the '/opt/app-root/bin/python3.8 -m pip install --upgrade pip' command.\u001b[0m\n"
     ]
    }
   ],
   "source": [
    "!pip install presto-python-client \n",
    "!pip install pandas "
   ]
  },
  {
   "cell_type": "code",
   "execution_count": 2,
   "id": "57752165-8cf1-450c-a517-0e91304eb30d",
   "metadata": {},
   "outputs": [],
   "source": [
    "import os \n",
    "import prestodb \n",
    "import pandas \n",
    "import sqlalchemy"
   ]
  },
  {
   "cell_type": "code",
   "execution_count": 3,
   "id": "5e0dd265-6c73-4d94-9b2a-0d42926eba49",
   "metadata": {},
   "outputs": [],
   "source": [
    "PRESTO_SERVER = os.environ.get('PRESTO_SERVER')\n",
    "PRESTO_USER= os.environ.get('PRESTO_USER')\n",
    "PRESTO_PORT= os.environ.get('PRESTO_PORT')\n",
    "PRESTO_CATALOG= os.environ.get('PRESTO_CATALOG')"
   ]
  },
  {
   "cell_type": "markdown",
   "id": "71d70412-46ee-4bb1-ba61-38c228d74be0",
   "metadata": {},
   "source": [
    "Let's just make sure we have a connection and can query presto"
   ]
  },
  {
   "cell_type": "code",
   "execution_count": 4,
   "id": "efc5ae61-65f9-4a25-ae0c-d68f43bc97a6",
   "metadata": {},
   "outputs": [
    {
     "data": {
      "text/plain": [
       "[[0,\n",
       "  0,\n",
       "  False,\n",
       "  '{\"txt\": \"hello 0\"}',\n",
       "  {},\n",
       "  18,\n",
       "  False,\n",
       "  None,\n",
       "  0,\n",
       "  '2021-06-25 13:42:27.649'],\n",
       " [0,\n",
       "  1,\n",
       "  False,\n",
       "  '{\"txt\": \"hello 1\"}',\n",
       "  {},\n",
       "  18,\n",
       "  False,\n",
       "  None,\n",
       "  0,\n",
       "  '2021-06-25 13:42:29.651'],\n",
       " [0,\n",
       "  2,\n",
       "  False,\n",
       "  '{\"txt\": \"hello 2\"}',\n",
       "  {},\n",
       "  18,\n",
       "  False,\n",
       "  None,\n",
       "  0,\n",
       "  '2021-06-25 13:42:31.654']]"
      ]
     },
     "execution_count": 4,
     "metadata": {},
     "output_type": "execute_result"
    }
   ],
   "source": [
    "conn = prestodb.dbapi.connect(\n",
    "    host=PRESTO_SERVER,\n",
    "    port=80,\n",
    "    user=PRESTO_USER,\n",
    "    catalog='kafka',\n",
    "    schema='default')\n",
    "cur = conn.cursor()\n",
    "cur.execute('SELECT * FROM \"notebook-test\" limit 3')\n",
    "rows = cur.fetchall()\n",
    "rows"
   ]
  },
  {
   "cell_type": "code",
   "execution_count": 6,
   "id": "c570bf2b-61a7-46ce-bfdf-501802d6f4c2",
   "metadata": {},
   "outputs": [
    {
     "data": {
      "text/html": [
       "<div>\n",
       "<style scoped>\n",
       "    .dataframe tbody tr th:only-of-type {\n",
       "        vertical-align: middle;\n",
       "    }\n",
       "\n",
       "    .dataframe tbody tr th {\n",
       "        vertical-align: top;\n",
       "    }\n",
       "\n",
       "    .dataframe thead th {\n",
       "        text-align: right;\n",
       "    }\n",
       "</style>\n",
       "<table border=\"1\" class=\"dataframe\">\n",
       "  <thead>\n",
       "    <tr style=\"text-align: right;\">\n",
       "      <th></th>\n",
       "      <th>Catalog</th>\n",
       "    </tr>\n",
       "  </thead>\n",
       "  <tbody>\n",
       "    <tr>\n",
       "      <th>0</th>\n",
       "      <td>kafka</td>\n",
       "    </tr>\n",
       "    <tr>\n",
       "      <th>1</th>\n",
       "      <td>postgres</td>\n",
       "    </tr>\n",
       "    <tr>\n",
       "      <th>2</th>\n",
       "      <td>system</td>\n",
       "    </tr>\n",
       "    <tr>\n",
       "      <th>3</th>\n",
       "      <td>tpch</td>\n",
       "    </tr>\n",
       "  </tbody>\n",
       "</table>\n",
       "</div>"
      ],
      "text/plain": [
       "    Catalog\n",
       "0     kafka\n",
       "1  postgres\n",
       "2    system\n",
       "3      tpch"
      ]
     },
     "execution_count": 6,
     "metadata": {},
     "output_type": "execute_result"
    }
   ],
   "source": [
    "engine = sqlalchemy.create_engine(\"presto://%s@%s:%d/%s\" %(PRESTO_USER, PRESTO_SERVER, PRESTO_PORT, PRESTO_CATALOG))\n",
    "pandas.read_sql('SHOW CATALOGS', engine)"
   ]
  },
  {
   "cell_type": "code",
   "execution_count": 7,
   "id": "5353ebe1-a0f2-4259-97f0-15f2111b64d6",
   "metadata": {},
   "outputs": [],
   "source": [
    "kafka_df = pandas.read_sql('select * from \"notebook-test\"', engine)\n",
    "postg_df = pandas.read_sql('select * from postgres.public.customer', engine)"
   ]
  },
  {
   "cell_type": "code",
   "execution_count": 8,
   "id": "21c898ca-a2a6-4f5d-be89-357427fd641a",
   "metadata": {},
   "outputs": [
    {
     "data": {
      "text/html": [
       "<div>\n",
       "<style scoped>\n",
       "    .dataframe tbody tr th:only-of-type {\n",
       "        vertical-align: middle;\n",
       "    }\n",
       "\n",
       "    .dataframe tbody tr th {\n",
       "        vertical-align: top;\n",
       "    }\n",
       "\n",
       "    .dataframe thead th {\n",
       "        text-align: right;\n",
       "    }\n",
       "</style>\n",
       "<table border=\"1\" class=\"dataframe\">\n",
       "  <thead>\n",
       "    <tr style=\"text-align: right;\">\n",
       "      <th></th>\n",
       "      <th>_partition_id</th>\n",
       "      <th>_partition_offset</th>\n",
       "      <th>_message_corrupt</th>\n",
       "      <th>_message</th>\n",
       "      <th>_headers</th>\n",
       "      <th>_message_length</th>\n",
       "      <th>_key_corrupt</th>\n",
       "      <th>_key</th>\n",
       "      <th>_key_length</th>\n",
       "      <th>_timestamp</th>\n",
       "    </tr>\n",
       "  </thead>\n",
       "  <tbody>\n",
       "    <tr>\n",
       "      <th>0</th>\n",
       "      <td>0</td>\n",
       "      <td>0</td>\n",
       "      <td>False</td>\n",
       "      <td>{\"txt\": \"hello 0\"}</td>\n",
       "      <td>{}</td>\n",
       "      <td>18</td>\n",
       "      <td>False</td>\n",
       "      <td>None</td>\n",
       "      <td>0</td>\n",
       "      <td>2021-06-25 13:42:27.649</td>\n",
       "    </tr>\n",
       "    <tr>\n",
       "      <th>1</th>\n",
       "      <td>0</td>\n",
       "      <td>1</td>\n",
       "      <td>False</td>\n",
       "      <td>{\"txt\": \"hello 1\"}</td>\n",
       "      <td>{}</td>\n",
       "      <td>18</td>\n",
       "      <td>False</td>\n",
       "      <td>None</td>\n",
       "      <td>0</td>\n",
       "      <td>2021-06-25 13:42:29.651</td>\n",
       "    </tr>\n",
       "    <tr>\n",
       "      <th>2</th>\n",
       "      <td>0</td>\n",
       "      <td>2</td>\n",
       "      <td>False</td>\n",
       "      <td>{\"txt\": \"hello 2\"}</td>\n",
       "      <td>{}</td>\n",
       "      <td>18</td>\n",
       "      <td>False</td>\n",
       "      <td>None</td>\n",
       "      <td>0</td>\n",
       "      <td>2021-06-25 13:42:31.654</td>\n",
       "    </tr>\n",
       "    <tr>\n",
       "      <th>3</th>\n",
       "      <td>0</td>\n",
       "      <td>3</td>\n",
       "      <td>False</td>\n",
       "      <td>{\"txt\": \"hello 3\"}</td>\n",
       "      <td>{}</td>\n",
       "      <td>18</td>\n",
       "      <td>False</td>\n",
       "      <td>None</td>\n",
       "      <td>0</td>\n",
       "      <td>2021-06-25 13:42:33.656</td>\n",
       "    </tr>\n",
       "    <tr>\n",
       "      <th>4</th>\n",
       "      <td>0</td>\n",
       "      <td>4</td>\n",
       "      <td>False</td>\n",
       "      <td>{\"txt\": \"hello 4\"}</td>\n",
       "      <td>{}</td>\n",
       "      <td>18</td>\n",
       "      <td>False</td>\n",
       "      <td>None</td>\n",
       "      <td>0</td>\n",
       "      <td>2021-06-25 13:42:35.658</td>\n",
       "    </tr>\n",
       "  </tbody>\n",
       "</table>\n",
       "</div>"
      ],
      "text/plain": [
       "   _partition_id  _partition_offset  _message_corrupt            _message  \\\n",
       "0              0                  0             False  {\"txt\": \"hello 0\"}   \n",
       "1              0                  1             False  {\"txt\": \"hello 1\"}   \n",
       "2              0                  2             False  {\"txt\": \"hello 2\"}   \n",
       "3              0                  3             False  {\"txt\": \"hello 3\"}   \n",
       "4              0                  4             False  {\"txt\": \"hello 4\"}   \n",
       "\n",
       "  _headers  _message_length  _key_corrupt  _key  _key_length  \\\n",
       "0       {}               18         False  None            0   \n",
       "1       {}               18         False  None            0   \n",
       "2       {}               18         False  None            0   \n",
       "3       {}               18         False  None            0   \n",
       "4       {}               18         False  None            0   \n",
       "\n",
       "                _timestamp  \n",
       "0  2021-06-25 13:42:27.649  \n",
       "1  2021-06-25 13:42:29.651  \n",
       "2  2021-06-25 13:42:31.654  \n",
       "3  2021-06-25 13:42:33.656  \n",
       "4  2021-06-25 13:42:35.658  "
      ]
     },
     "execution_count": 8,
     "metadata": {},
     "output_type": "execute_result"
    }
   ],
   "source": [
    "kafka_df.head()"
   ]
  },
  {
   "cell_type": "code",
   "execution_count": 9,
   "id": "7ee9e000-06bd-4e93-bc1e-ae47c0152cd0",
   "metadata": {},
   "outputs": [
    {
     "data": {
      "text/html": [
       "<div>\n",
       "<style scoped>\n",
       "    .dataframe tbody tr th:only-of-type {\n",
       "        vertical-align: middle;\n",
       "    }\n",
       "\n",
       "    .dataframe tbody tr th {\n",
       "        vertical-align: top;\n",
       "    }\n",
       "\n",
       "    .dataframe thead th {\n",
       "        text-align: right;\n",
       "    }\n",
       "</style>\n",
       "<table border=\"1\" class=\"dataframe\">\n",
       "  <thead>\n",
       "    <tr style=\"text-align: right;\">\n",
       "      <th></th>\n",
       "      <th>id</th>\n",
       "      <th>customername</th>\n",
       "      <th>effectivedate</th>\n",
       "      <th>description</th>\n",
       "      <th>status</th>\n",
       "    </tr>\n",
       "  </thead>\n",
       "  <tbody>\n",
       "    <tr>\n",
       "      <th>0</th>\n",
       "      <td>1</td>\n",
       "      <td>Alpha Beta Testers Inc.</td>\n",
       "      <td>2019-06-01</td>\n",
       "      <td>Alpha Beta Testers is who we hire to beta test...</td>\n",
       "      <td>1</td>\n",
       "    </tr>\n",
       "    <tr>\n",
       "      <th>1</th>\n",
       "      <td>2</td>\n",
       "      <td>Snazzy Painters</td>\n",
       "      <td>2019-06-01</td>\n",
       "      <td>Snazzy Painters is a group of well-dressed hou...</td>\n",
       "      <td>1</td>\n",
       "    </tr>\n",
       "    <tr>\n",
       "      <th>2</th>\n",
       "      <td>3</td>\n",
       "      <td>Peter Piper</td>\n",
       "      <td>2019-06-01</td>\n",
       "      <td>Peter provides the music for our annual holida...</td>\n",
       "      <td>1</td>\n",
       "    </tr>\n",
       "    <tr>\n",
       "      <th>3</th>\n",
       "      <td>4</td>\n",
       "      <td>Sally Supermarket</td>\n",
       "      <td>2019-06-01</td>\n",
       "      <td>Sally is where we purchase all foods for the o...</td>\n",
       "      <td>1</td>\n",
       "    </tr>\n",
       "  </tbody>\n",
       "</table>\n",
       "</div>"
      ],
      "text/plain": [
       "   id             customername effectivedate  \\\n",
       "0   1  Alpha Beta Testers Inc.    2019-06-01   \n",
       "1   2          Snazzy Painters    2019-06-01   \n",
       "2   3              Peter Piper    2019-06-01   \n",
       "3   4        Sally Supermarket    2019-06-01   \n",
       "\n",
       "                                         description  status  \n",
       "0  Alpha Beta Testers is who we hire to beta test...       1  \n",
       "1  Snazzy Painters is a group of well-dressed hou...       1  \n",
       "2  Peter provides the music for our annual holida...       1  \n",
       "3  Sally is where we purchase all foods for the o...       1  "
      ]
     },
     "execution_count": 9,
     "metadata": {},
     "output_type": "execute_result"
    }
   ],
   "source": [
    "postg_df.head()"
   ]
  },
  {
   "cell_type": "code",
   "execution_count": null,
   "id": "b394d482-05e3-40ab-a40b-38a3942c5dea",
   "metadata": {},
   "outputs": [],
   "source": []
  }
 ],
 "metadata": {
  "kernelspec": {
   "display_name": "Python 3",
   "language": "python",
   "name": "python3"
  },
  "language_info": {
   "codemirror_mode": {
    "name": "ipython",
    "version": 3
   },
   "file_extension": ".py",
   "mimetype": "text/x-python",
   "name": "python",
   "nbconvert_exporter": "python",
   "pygments_lexer": "ipython3",
   "version": "3.8.6"
  }
 },
 "nbformat": 4,
 "nbformat_minor": 5
}
