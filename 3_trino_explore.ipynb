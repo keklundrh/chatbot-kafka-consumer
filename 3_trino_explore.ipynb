{
 "cells": [
  {
   "cell_type": "code",
   "execution_count": null,
   "id": "1781226a-7dd3-464f-81e7-51ebde09bb1d",
   "metadata": {
    "tags": []
   },
   "outputs": [],
   "source": [
    "!pip install -U -r requirements.txt"
   ]
  },
  {
   "cell_type": "code",
   "execution_count": null,
   "id": "57752165-8cf1-450c-a517-0e91304eb30d",
   "metadata": {},
   "outputs": [],
   "source": [
    "import json\n",
    "import os \n",
    "import warnings\n",
    "import pandas\n",
    "import trino \n",
    "from helper import get_sql\n",
    "\n",
    "warnings.simplefilter('ignore')"
   ]
  },
  {
   "cell_type": "code",
   "execution_count": null,
   "id": "5e0dd265-6c73-4d94-9b2a-0d42926eba49",
   "metadata": {},
   "outputs": [],
   "source": [
    "TRINO_HOSTNAME = os.environ.get('TRINO_HOSTNAME')\n",
    "TRINO_USERNAME = os.environ.get('TRINO_USERNAME')\n",
    "TRINO_PORT = os.environ.get('TRINO_PORT')"
   ]
  },
  {
   "cell_type": "markdown",
   "id": "71d70412-46ee-4bb1-ba61-38c228d74be0",
   "metadata": {},
   "source": [
    "Let's just make sure we have a connection and can query Starburst"
   ]
  },
  {
   "cell_type": "code",
   "execution_count": null,
   "id": "c570bf2b-61a7-46ce-bfdf-501802d6f4c2",
   "metadata": {},
   "outputs": [],
   "source": [
    "conn = trino.dbapi.connect(\n",
    "    host=TRINO_HOSTNAME,\n",
    "    port=TRINO_PORT,\n",
    "    user=TRINO_USERNAME,\n",
    ")"
   ]
  },
  {
   "cell_type": "code",
   "execution_count": null,
   "id": "389c189a-ee78-4f3e-87a9-f6b38757e9e3",
   "metadata": {},
   "outputs": [],
   "source": [
    "sql = 'SHOW CATALOGS'\n",
    "df = get_sql(sql, conn)\n",
    "df.head()"
   ]
  },
  {
   "cell_type": "code",
   "execution_count": null,
   "id": "5353ebe1-a0f2-4259-97f0-15f2111b64d6",
   "metadata": {},
   "outputs": [],
   "source": [
    "kafka_sql = 'select * from \"messages\"'\n",
    "\n",
    "kafka_raw_df = get_sql(kafka_sql, conn)\n",
    "kafka_df = kafka_raw_df.join(kafka_raw_df._message.apply(json.loads).apply(pandas.Series))\n",
    "kafka_df = kafka_df.drop(columns=['_message'])\n",
    "\n",
    "kafka_df.head()"
   ]
  },
  {
   "cell_type": "code",
   "execution_count": null,
   "id": "7ee9e000-06bd-4e93-bc1e-ae47c0152cd0",
   "metadata": {},
   "outputs": [],
   "source": [
    "cust_sql = 'select * from \"customer-domain\".public.customer'\n",
    "\n",
    "cust_df = get_sql(cust_sql, conn)\n",
    "cust_df.head()"
   ]
  },
  {
   "cell_type": "code",
   "execution_count": null,
   "id": "d7afb4b4-c398-4deb-b243-fec5fd311ff6",
   "metadata": {},
   "outputs": [],
   "source": [
    "fin_sql = 'select * from \"finance-domain\".public.transactions'\n",
    "\n",
    "fin_df = get_sql(fin_sql, conn)\n",
    "fin_df[\"amount\"] = fin_df[\"amount\"].str.replace(\"$\", \"\")\n",
    "fin_df[\"amount\"] = fin_df[\"amount\"].astype(float)\n",
    "fin_df.head()"
   ]
  },
  {
   "cell_type": "markdown",
   "id": "c97e4332-8eb7-4261-9cd2-034246449a26",
   "metadata": {},
   "source": [
    "Let's explore customer 42's transaction information"
   ]
  },
  {
   "cell_type": "code",
   "execution_count": null,
   "id": "ad6e3fc1-af71-4483-9faf-6ab8779fd20a",
   "metadata": {},
   "outputs": [],
   "source": [
    "fin_df[fin_df['customerid'] == 42]"
   ]
  },
  {
   "cell_type": "code",
   "execution_count": null,
   "id": "9ebe14c9-6a9c-4f64-879e-b90e73432214",
   "metadata": {},
   "outputs": [],
   "source": [
    "cust_df[cust_df['id'] == 42]"
   ]
  },
  {
   "cell_type": "markdown",
   "id": "af2aaf46-8aca-4205-b3b4-87e215fbd1a8",
   "metadata": {
    "tags": []
   },
   "source": [
    "Let's look at customer spend by mktsegment"
   ]
  },
  {
   "cell_type": "code",
   "execution_count": null,
   "id": "9db74727-ca5e-429c-9727-ee4d4c8df5b5",
   "metadata": {},
   "outputs": [],
   "source": [
    "df = cust_df.join(fin_df.groupby(\"customerid\")[\"amount\"].sum(\"amount\"), lsuffix=\"customerid\", rsuffix=\"id\").dropna()\n",
    "df.sort_values('amount', ascending=False).head()"
   ]
  },
  {
   "cell_type": "code",
   "execution_count": null,
   "id": "aff55895-8f2e-4abe-94be-6be7095ca4cd",
   "metadata": {},
   "outputs": [],
   "source": [
    "df.plot.scatter(x=\"mktsegment\", y=\"amount\", figsize=(12, 6))"
   ]
  }
 ],
 "metadata": {
  "kernelspec": {
   "display_name": "Python 3 (ipykernel)",
   "language": "python",
   "name": "python3"
  },
  "language_info": {
   "codemirror_mode": {
    "name": "ipython",
    "version": 3
   },
   "file_extension": ".py",
   "mimetype": "text/x-python",
   "name": "python",
   "nbconvert_exporter": "python",
   "pygments_lexer": "ipython3",
   "version": "3.9.6"
  }
 },
 "nbformat": 4,
 "nbformat_minor": 5
}
