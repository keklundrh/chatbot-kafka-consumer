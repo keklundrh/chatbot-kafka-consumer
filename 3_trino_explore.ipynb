{
 "cells": [
  {
   "cell_type": "markdown",
   "id": "f943e3aa-fcff-4df4-be64-99c0ca097edf",
   "metadata": {},
   "source": [
    "# Step 3: Data Access & Exploration\n",
    "Now for the really fun part, let's connect to our Starburst instance and pull data from multiple, distinct data sources as if they all were part of the same warehouse. \n",
    "\n",
    "## Environment Setup\n",
    "You know what to do...."
   ]
  },
  {
   "cell_type": "code",
   "execution_count": null,
   "id": "1781226a-7dd3-464f-81e7-51ebde09bb1d",
   "metadata": {
    "tags": []
   },
   "outputs": [],
   "source": [
    "!pip install -U -r requirements.txt"
   ]
  },
  {
   "cell_type": "code",
   "execution_count": null,
   "id": "57752165-8cf1-450c-a517-0e91304eb30d",
   "metadata": {},
   "outputs": [],
   "source": [
    "import json\n",
    "import os \n",
    "import warnings\n",
    "import pandas\n",
    "import trino \n",
    "from helper import get_sql\n",
    "\n",
    "warnings.simplefilter('ignore')"
   ]
  },
  {
   "cell_type": "code",
   "execution_count": null,
   "id": "5e0dd265-6c73-4d94-9b2a-0d42926eba49",
   "metadata": {},
   "outputs": [],
   "source": [
    "TRINO_HOSTNAME = os.environ.get('TRINO_HOSTNAME')\n",
    "TRINO_USERNAME = os.environ.get('TRINO_USERNAME')\n",
    "TRINO_PORT = os.environ.get('TRINO_PORT')"
   ]
  },
  {
   "cell_type": "markdown",
   "id": "71d70412-46ee-4bb1-ba61-38c228d74be0",
   "metadata": {},
   "source": [
    "## Making Connections \n",
    "Let's make sure we can connect to Starburst using the environment variables we just assigned."
   ]
  },
  {
   "cell_type": "code",
   "execution_count": null,
   "id": "c570bf2b-61a7-46ce-bfdf-501802d6f4c2",
   "metadata": {},
   "outputs": [],
   "source": [
    "conn = trino.dbapi.connect(\n",
    "    host=TRINO_HOSTNAME,\n",
    "    port=TRINO_PORT,\n",
    "    user=TRINO_USERNAME,\n",
    "    catalog='kafka',\n",
    "    schema='default',\n",
    ")"
   ]
  },
  {
   "cell_type": "code",
   "execution_count": null,
   "id": "389c189a-ee78-4f3e-87a9-f6b38757e9e3",
   "metadata": {},
   "outputs": [],
   "source": [
    "sql = 'SHOW CATALOGS'\n",
    "df = get_sql(sql, conn)\n",
    "df.head()"
   ]
  },
  {
   "cell_type": "markdown",
   "id": "47ab01a8-c106-40f0-a22b-c3ab1c73027f",
   "metadata": {},
   "source": [
    "You should see a list of _catalogs_ (your data sources) displayed here. \n",
    "\n",
    "## Simple Queries\n",
    "Let's query our Kafka catalog. \n",
    "To do so, we write a SQL statement requesting data from the _mesages_ table which is part of the _default_ schema within the _kafka_ catalog: `kafka.default.mesages`. \n",
    "\n",
    "**Remember:** the messages we dropped on the queue are still in their raw format. \n",
    "We can use some methods included as part of the `DataFrame` [object](https://pandas.pydata.org/docs/reference/api/pandas.DataFrame.html) to do some data cleaning, for now. "
   ]
  },
  {
   "cell_type": "code",
   "execution_count": null,
   "id": "5353ebe1-a0f2-4259-97f0-15f2111b64d6",
   "metadata": {},
   "outputs": [],
   "source": [
    "kafka_sql = 'select * from kafka.default.messages'\n",
    "\n",
    "kafka_raw_df = get_sql(kafka_sql, conn)\n",
    "kafka_df = kafka_raw_df.join(kafka_raw_df._message.apply(json.loads).apply(pandas.Series))\n",
    "kafka_df = kafka_df.drop(columns=['_message'])\n",
    "\n",
    "kafka_df.head()"
   ]
  },
  {
   "cell_type": "markdown",
   "id": "09031c15-59b1-462b-91ef-5dd336f71dad",
   "metadata": {},
   "source": [
    "**Now, for the cool part!** \n",
    "Let's query separate, completely distinct, databases to get our customer and financial data, respecitively. "
   ]
  },
  {
   "cell_type": "code",
   "execution_count": null,
   "id": "7ee9e000-06bd-4e93-bc1e-ae47c0152cd0",
   "metadata": {},
   "outputs": [],
   "source": [
    "cust_sql = 'select * from \"customer-domain\".public.customer'\n",
    "\n",
    "cust_df = get_sql(cust_sql, conn)\n",
    "cust_df.head()"
   ]
  },
  {
   "cell_type": "code",
   "execution_count": null,
   "id": "d7afb4b4-c398-4deb-b243-fec5fd311ff6",
   "metadata": {},
   "outputs": [],
   "source": [
    "fin_sql = 'select * from \"finance-domain\".public.transactions'\n",
    "\n",
    "fin_df = get_sql(fin_sql, conn)\n",
    "# clean some data\n",
    "fin_df[\"amount\"] = fin_df[\"amount\"].str.replace(\"$\", \"\")\n",
    "fin_df[\"amount\"] = fin_df[\"amount\"].astype(float)\n",
    "fin_df.head()"
   ]
  },
  {
   "cell_type": "markdown",
   "id": "c97e4332-8eb7-4261-9cd2-034246449a26",
   "metadata": {},
   "source": [
    "Perfect. \n",
    "See how simple it was to get data from three _(previously)_ siloes data sources?! \n",
    "\n",
    "Let's explore \"our\" (fake) customer and transaction data too."
   ]
  },
  {
   "cell_type": "code",
   "execution_count": null,
   "id": "ad6e3fc1-af71-4483-9faf-6ab8779fd20a",
   "metadata": {},
   "outputs": [],
   "source": [
    "fin_df[fin_df['customerid'] == 42]"
   ]
  },
  {
   "cell_type": "code",
   "execution_count": null,
   "id": "9ebe14c9-6a9c-4f64-879e-b90e73432214",
   "metadata": {},
   "outputs": [],
   "source": [
    "cust_df[cust_df['id'] == 42]"
   ]
  },
  {
   "cell_type": "markdown",
   "id": "af2aaf46-8aca-4205-b3b4-87e215fbd1a8",
   "metadata": {
    "tags": []
   },
   "source": [
    "Let's join our finance data to our customer reference table so we can explore - starting with customer marketing segment by total spend. "
   ]
  },
  {
   "cell_type": "code",
   "execution_count": null,
   "id": "9db74727-ca5e-429c-9727-ee4d4c8df5b5",
   "metadata": {},
   "outputs": [],
   "source": [
    "df = cust_df.join(fin_df.groupby(\"customerid\")[\"amount\"].sum(\"amount\"), lsuffix=\"customerid\", rsuffix=\"id\").dropna()\n",
    "df.sort_values('amount', ascending=False).head()"
   ]
  },
  {
   "cell_type": "code",
   "execution_count": null,
   "id": "aff55895-8f2e-4abe-94be-6be7095ca4cd",
   "metadata": {},
   "outputs": [],
   "source": [
    "df.plot.scatter(x=\"mktsegment\", y=\"amount\", figsize=(12, 6))"
   ]
  },
  {
   "cell_type": "markdown",
   "id": "62d2152f-9d4d-4d8e-9992-8b99cf11256b",
   "metadata": {},
   "source": [
    "## Recap\n",
    "We pulled data from **three** separate sources without having to move or replicate anything. \n",
    "That's pretty impressive. \n",
    "\n",
    "## Next\n",
    "**But**, Starburst is capable of much more than simplifying data access. \n",
    "Let's give Starburst the opportunity to build the features we'll need to build a model: [4_build_features.ipynb](4_build_features.ipynb)"
   ]
  }
 ],
 "metadata": {
  "kernelspec": {
   "display_name": "Python 3 (ipykernel)",
   "language": "python",
   "name": "python3"
  },
  "language_info": {
   "codemirror_mode": {
    "name": "ipython",
    "version": 3
   },
   "file_extension": ".py",
   "mimetype": "text/x-python",
   "name": "python",
   "nbconvert_exporter": "python",
   "pygments_lexer": "ipython3",
   "version": "3.9.6"
  }
 },
 "nbformat": 4,
 "nbformat_minor": 5
}
