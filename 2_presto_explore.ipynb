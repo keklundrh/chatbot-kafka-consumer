{
 "cells": [
  {
   "cell_type": "code",
   "execution_count": null,
   "id": "1781226a-7dd3-464f-81e7-51ebde09bb1d",
   "metadata": {
    "tags": []
   },
   "outputs": [],
   "source": [
    "!pip install -U -r requirements.txt"
   ]
  },
  {
   "cell_type": "code",
   "execution_count": null,
   "id": "57752165-8cf1-450c-a517-0e91304eb30d",
   "metadata": {},
   "outputs": [],
   "source": [
    "import json\n",
    "import os \n",
    "import prestodb \n",
    "import pandas \n",
    "import sqlalchemy"
   ]
  },
  {
   "cell_type": "code",
   "execution_count": null,
   "id": "5e0dd265-6c73-4d94-9b2a-0d42926eba49",
   "metadata": {},
   "outputs": [],
   "source": [
    "PRESTO_SERVER = os.environ.get('PRESTO_SERVER')\n",
    "PRESTO_USER= os.environ.get('PRESTO_USER')\n",
    "PRESTO_PORT= os.environ.get('PRESTO_PORT')\n",
    "PRESTO_CATALOG= os.environ.get('PRESTO_CATALOG')"
   ]
  },
  {
   "cell_type": "markdown",
   "id": "71d70412-46ee-4bb1-ba61-38c228d74be0",
   "metadata": {},
   "source": [
    "Let's just make sure we have a connection and can query presto"
   ]
  },
  {
   "cell_type": "code",
   "execution_count": null,
   "id": "c570bf2b-61a7-46ce-bfdf-501802d6f4c2",
   "metadata": {},
   "outputs": [],
   "source": [
    "engine = sqlalchemy.create_engine(\"presto://%s@%s:%d/%s\" %(PRESTO_USER, PRESTO_SERVER, 80, PRESTO_CATALOG))\n",
    "pandas.read_sql('SHOW CATALOGS', engine)"
   ]
  },
  {
   "cell_type": "code",
   "execution_count": null,
   "id": "5353ebe1-a0f2-4259-97f0-15f2111b64d6",
   "metadata": {},
   "outputs": [],
   "source": [
    "kafka_sql = 'select * from \"notebook-test\"'\n",
    "\n",
    "kafka_raw_df = pandas.read_sql(kafka_sql, engine)\n",
    "kafka_df = kafka_raw_df.join(kafka_raw_df._message.apply(json.loads).apply(pandas.Series))\n",
    "kafka_df = kafka_df.drop(columns=['_message'])\n",
    "\n",
    "kafka_df.head()"
   ]
  },
  {
   "cell_type": "code",
   "execution_count": null,
   "id": "7ee9e000-06bd-4e93-bc1e-ae47c0152cd0",
   "metadata": {},
   "outputs": [],
   "source": [
    "cust_sql = 'select * from \"customer-domain\".public.customer'\n",
    "\n",
    "cust_df = pandas.read_sql(cust_sql, engine)\n",
    "cust_df.head()"
   ]
  },
  {
   "cell_type": "code",
   "execution_count": null,
   "id": "d7afb4b4-c398-4deb-b243-fec5fd311ff6",
   "metadata": {},
   "outputs": [],
   "source": [
    "fin_sql = 'select * from \"finance-domain\".public.transactions'\n",
    "\n",
    "fin_df = pandas.read_sql(fin_sql, engine)\n",
    "fin_df[\"amount\"] = fin_df[\"amount\"].str.replace(\"$\", \"\")\n",
    "fin_df[\"amount\"] = fin_df[\"amount\"].astype(float)\n",
    "fin_df.head()"
   ]
  },
  {
   "cell_type": "raw",
   "id": "ab282d97-8966-4d07-ac75-3c0f4f325c29",
   "metadata": {},
   "source": []
  },
  {
   "cell_type": "markdown",
   "id": "c97e4332-8eb7-4261-9cd2-034246449a26",
   "metadata": {},
   "source": [
    "Let's explore customer 42's transaction information"
   ]
  },
  {
   "cell_type": "code",
   "execution_count": null,
   "id": "ad6e3fc1-af71-4483-9faf-6ab8779fd20a",
   "metadata": {},
   "outputs": [],
   "source": [
    "fin_df[fin_df['customerid'] == 42]"
   ]
  },
  {
   "cell_type": "code",
   "execution_count": null,
   "id": "9ebe14c9-6a9c-4f64-879e-b90e73432214",
   "metadata": {},
   "outputs": [],
   "source": [
    "cust_df[cust_df['id'] == 42]"
   ]
  },
  {
   "cell_type": "markdown",
   "id": "af2aaf46-8aca-4205-b3b4-87e215fbd1a8",
   "metadata": {
    "tags": []
   },
   "source": [
    "Let's look at customer spend by mktsegment"
   ]
  },
  {
   "cell_type": "code",
   "execution_count": null,
   "id": "9db74727-ca5e-429c-9727-ee4d4c8df5b5",
   "metadata": {},
   "outputs": [],
   "source": [
    "df = cust_df.join(fin_df.groupby(\"customerid\")[\"amount\"].sum(\"amount\"), lsuffix=\"customerid\", rsuffix=\"id\").dropna()\n",
    "df.head()"
   ]
  },
  {
   "cell_type": "code",
   "execution_count": null,
   "id": "aff55895-8f2e-4abe-94be-6be7095ca4cd",
   "metadata": {},
   "outputs": [],
   "source": [
    "df.plot.scatter(x=\"mktsegment\", y=\"amount\")"
   ]
  },
  {
   "cell_type": "markdown",
   "id": "99fc5dc0-fba2-4621-8d75-28e81b79fbfe",
   "metadata": {},
   "source": [
    "Maybe our chatbot messages have signal"
   ]
  }
 ],
 "metadata": {
  "kernelspec": {
   "display_name": "Python 3",
   "language": "python",
   "name": "python3"
  },
  "language_info": {
   "codemirror_mode": {
    "name": "ipython",
    "version": 3
   },
   "file_extension": ".py",
   "mimetype": "text/x-python",
   "name": "python",
   "nbconvert_exporter": "python",
   "pygments_lexer": "ipython3",
   "version": "3.8.3"
  }
 },
 "nbformat": 4,
 "nbformat_minor": 5
}
