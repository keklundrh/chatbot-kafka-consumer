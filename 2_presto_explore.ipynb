{
 "cells": [
  {
   "cell_type": "code",
   "execution_count": null,
   "id": "1781226a-7dd3-464f-81e7-51ebde09bb1d",
   "metadata": {
    "tags": []
   },
   "outputs": [],
   "source": [
    "!pip install -U -r requirements.txt"
   ]
  },
  {
   "cell_type": "code",
   "execution_count": null,
   "id": "57752165-8cf1-450c-a517-0e91304eb30d",
   "metadata": {},
   "outputs": [],
   "source": [
    "import os \n",
    "import prestodb \n",
    "import pandas \n",
    "import sqlalchemy"
   ]
  },
  {
   "cell_type": "code",
   "execution_count": null,
   "id": "5e0dd265-6c73-4d94-9b2a-0d42926eba49",
   "metadata": {},
   "outputs": [],
   "source": [
    "PRESTO_SERVER = os.environ.get('PRESTO_SERVER')\n",
    "PRESTO_USER= os.environ.get('PRESTO_USER')\n",
    "PRESTO_PORT= os.environ.get('PRESTO_PORT')\n",
    "PRESTO_CATALOG= os.environ.get('PRESTO_CATALOG')"
   ]
  },
  {
   "cell_type": "markdown",
   "id": "71d70412-46ee-4bb1-ba61-38c228d74be0",
   "metadata": {},
   "source": [
    "Let's just make sure we have a connection and can query presto"
   ]
  },
  {
   "cell_type": "code",
   "execution_count": null,
   "id": "efc5ae61-65f9-4a25-ae0c-d68f43bc97a6",
   "metadata": {},
   "outputs": [],
   "source": [
    "conn = prestodb.dbapi.connect(\n",
    "    host=PRESTO_SERVER,\n",
    "    port=80,\n",
    "    user=PRESTO_USER,\n",
    "    catalog='kafka',\n",
    "    schema='default')\n",
    "cur = conn.cursor()\n",
    "cur.execute('SELECT * FROM \"notebook-test\" limit 3')\n",
    "rows = cur.fetchall()\n",
    "rows"
   ]
  },
  {
   "cell_type": "code",
   "execution_count": null,
   "id": "c570bf2b-61a7-46ce-bfdf-501802d6f4c2",
   "metadata": {},
   "outputs": [],
   "source": [
    "engine = sqlalchemy.create_engine(\"presto://%s@%s:%d/%s\" %(PRESTO_USER, PRESTO_SERVER, 80, PRESTO_CATALOG))\n",
    "pandas.read_sql('SHOW CATALOGS', engine)"
   ]
  },
  {
   "cell_type": "code",
   "execution_count": null,
   "id": "5353ebe1-a0f2-4259-97f0-15f2111b64d6",
   "metadata": {},
   "outputs": [],
   "source": [
    "kafka_df = pandas.read_sql('select * from \"notebook-test\"', engine)\n",
    "postg_df = pandas.read_sql('select * from \"customer-domain\".public.customer limit 20', engine)"
   ]
  },
  {
   "cell_type": "code",
   "execution_count": null,
   "id": "21c898ca-a2a6-4f5d-be89-357427fd641a",
   "metadata": {},
   "outputs": [],
   "source": [
    "kafka_df.head()"
   ]
  },
  {
   "cell_type": "code",
   "execution_count": null,
   "id": "7ee9e000-06bd-4e93-bc1e-ae47c0152cd0",
   "metadata": {},
   "outputs": [],
   "source": [
    "postg_df.head()"
   ]
  },
  {
   "cell_type": "code",
   "execution_count": null,
   "id": "7509b559-0362-4381-9e75-6830484a15a1",
   "metadata": {},
   "outputs": [],
   "source": []
  }
 ],
 "metadata": {
  "kernelspec": {
   "display_name": "Python 3",
   "language": "python",
   "name": "python3"
  },
  "language_info": {
   "codemirror_mode": {
    "name": "ipython",
    "version": 3
   },
   "file_extension": ".py",
   "mimetype": "text/x-python",
   "name": "python",
   "nbconvert_exporter": "python",
   "pygments_lexer": "ipython3",
   "version": "3.8.6"
  }
 },
 "nbformat": 4,
 "nbformat_minor": 5
}
