{
 "cells": [
  {
   "cell_type": "markdown",
   "id": "7abcd545-256f-425d-9a3a-796b3f39bdc0",
   "metadata": {},
   "source": [
    "## Step 2: (Fake) Data! \n",
    "We're going to use the code below to pre-populate our kafka \"messages\" topic with fake customer requests. The code below **randomizes** customer IDs so your output will **differ slightly** from mine.\n",
    "\n",
    "## Environment Setup\n",
    "You know what to do...."
   ]
  },
  {
   "cell_type": "code",
   "execution_count": null,
   "id": "8c3fb072-b9a9-4970-8a07-3c31ccb40844",
   "metadata": {
    "tags": []
   },
   "outputs": [],
   "source": [
    "!pip install -U -r requirements.txt"
   ]
  },
  {
   "cell_type": "code",
   "execution_count": null,
   "id": "1488deb3-6d89-41b7-acfb-aa04609a339e",
   "metadata": {},
   "outputs": [],
   "source": [
    "import json\n",
    "import os\n",
    "import random\n",
    "import time\n",
    "from kafka import KafkaProducer"
   ]
  },
  {
   "cell_type": "code",
   "execution_count": null,
   "id": "518b3fd5-6689-448d-b6a1-d92df8c57764",
   "metadata": {},
   "outputs": [],
   "source": [
    "KAFKA_BOOTSTRAP_SERVER = os.environ.get('KAFKA_BOOTSTRAP_SERVER')\n",
    "KAFKA_SECURITY_PROTOCOL = os.environ.get('KAFKA_SECURITY_PROTOCOL')\n",
    "KAFKA_SASL_MECHANISM = os.environ.get('KAFKA_SASL_MECHANISM')\n",
    "KAFKA_USERNAME = os.environ.get('KAFKA_USERNAME')\n",
    "KAFKA_PASSWORD = os.environ.get('KAFKA_PASSWORD')\n",
    "\n",
    "KAFKA_TOPIC_NOTEBOOKS = 'messages'"
   ]
  },
  {
   "cell_type": "markdown",
   "id": "aac54178-0388-452b-b947-14e64808cf7d",
   "metadata": {},
   "source": [
    "## Pre-populate messages\n",
    "Similarly to the last notebook, we're using the `KafkaProducer` function to connect to Kafka. Here we simply extract some customer statements from an included file, assign an identifier, and drop the pair in the queue."
   ]
  },
  {
   "cell_type": "code",
   "execution_count": null,
   "id": "60560254-a609-4b99-a05c-8ff7fe1d4428",
   "metadata": {},
   "outputs": [],
   "source": [
    "producer = KafkaProducer(bootstrap_servers=[KAFKA_BOOTSTRAP_SERVER],\n",
    "                            security_protocol=KAFKA_SECURITY_PROTOCOL,\n",
    "                            sasl_mechanism=KAFKA_SASL_MECHANISM,\n",
    "                            sasl_plain_username=KAFKA_USERNAME,\n",
    "                            sasl_plain_password=KAFKA_PASSWORD,\n",
    "                            api_version_auto_timeout_ms=30000,\n",
    "                            max_block_ms=900000,\n",
    "                            request_timeout_ms=450000,\n",
    "                            acks='all')\n",
    "\n",
    "with open('support/testdata1.csv') as csv:\n",
    "    for message in csv:\n",
    "        jsonpayload = json.dumps(\n",
    "            {'customer_number': random.randint(1, 1000), \n",
    "             'txt': message.rsplit(',', 1)[0],\n",
    "            }\n",
    "        )\n",
    "        producer.send(KAFKA_TOPIC_NOTEBOOKS, jsonpayload.encode('utf-8'))\n",
    "\n",
    "producer.flush() # Important, especially if message size is small"
   ]
  },
  {
   "cell_type": "markdown",
   "id": "50dbf4b6-66f2-4987-ba38-4a97c5b40e15",
   "metadata": {},
   "source": [
    "## Next\n",
    "You should see a ton of of messages in your [consumer notebook](0_kafka_consumer.ipynb). \n",
    "\n",
    "Next, let's use [3_trino_explore.ipynb](3_trino_explore.ipynb) to explore our data! "
   ]
  }
 ],
 "metadata": {
  "kernelspec": {
   "display_name": "Python 3 (ipykernel)",
   "language": "python",
   "name": "python3"
  },
  "language_info": {
   "codemirror_mode": {
    "name": "ipython",
    "version": 3
   },
   "file_extension": ".py",
   "mimetype": "text/x-python",
   "name": "python",
   "nbconvert_exporter": "python",
   "pygments_lexer": "ipython3",
   "version": "3.9.6"
  }
 },
 "nbformat": 4,
 "nbformat_minor": 5
}
