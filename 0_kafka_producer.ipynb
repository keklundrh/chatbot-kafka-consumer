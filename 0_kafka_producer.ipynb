{
 "cells": [
  {
   "cell_type": "code",
   "execution_count": null,
   "id": "9719508e-7ed6-4032-ab66-ce502be3b67e",
   "metadata": {},
   "outputs": [],
   "source": [
    "!pip install -U -r requirements.txt"
   ]
  },
  {
   "cell_type": "code",
   "execution_count": null,
   "id": "bb784f59-af73-4795-934d-22a01c19cbba",
   "metadata": {},
   "outputs": [],
   "source": [
    "import os\n",
    "\n",
    "KAFKA_BOOTSTRAP_SERVER = os.environ.get('KAFKA_BOOTSTRAP_SERVER')\n",
    "KAFKA_SECURITY_PROTOCOL = os.environ.get('KAFKA_SECURITY_PROTOCOL')\n",
    "KAFKA_SASL_MECHANISM = os.environ.get('KAFKA_SASL_MECHANISM')\n",
    "KAFKA_USERNAME = os.environ.get('KAFKA_USERNAME')\n",
    "KAFKA_PASSWORD = os.environ.get('KAFKA_PASSWORD')\n",
    "\n",
    "KAFKA_TOPIC_NOTEBOOKS = 'notebook-test'\n"
   ]
  },
  {
   "cell_type": "code",
   "execution_count": null,
   "id": "3e3b380d-07ac-4518-86ba-c1d1f8593508",
   "metadata": {},
   "outputs": [],
   "source": [
    "import json\n",
    "import time\n",
    "from kafka import KafkaProducer\n",
    "\n",
    "def chatbot(customer_number, delay=1):\n",
    "    producer = KafkaProducer(bootstrap_servers=[KAFKA_BOOTSTRAP_SERVER],\n",
    "                             security_protocol=KAFKA_SECURITY_PROTOCOL,\n",
    "                             sasl_mechanism=KAFKA_SASL_MECHANISM,\n",
    "                             sasl_plain_username=KAFKA_USERNAME,\n",
    "                             sasl_plain_password=KAFKA_PASSWORD,\n",
    "                             api_version_auto_timeout_ms=30000,\n",
    "                             max_block_ms=900000,\n",
    "                             request_timeout_ms=450000,\n",
    "                             acks='all')\n",
    "\n",
    "    chat = '' \n",
    "    while(chat != '/q'):\n",
    "        chat = input(\"me: \")\n",
    "        print(\"chatbot: %s\" % chat)\n",
    "        jsonpayload = json.dumps({'customer_number': customer_number, 'txt': chat})\n",
    "        producer.send(KAFKA_TOPIC_NOTEBOOKS, jsonpayload.encode('utf-8'))\n",
    "    \n",
    "    producer.flush()  # Important, especially if message size is small\n",
    "\n"
   ]
  },
  {
   "cell_type": "code",
   "execution_count": null,
   "id": "ddd5d19e-d6a7-4ac1-ab3f-71f4126523b3",
   "metadata": {
    "tags": []
   },
   "outputs": [],
   "source": [
    "customer_number = 42\n",
    "chatbot(42)"
   ]
  },
  {
   "cell_type": "code",
   "execution_count": null,
   "id": "74b7b3e5-cf5d-40b4-a1d2-e9765d81de3d",
   "metadata": {},
   "outputs": [],
   "source": []
  }
 ],
 "metadata": {
  "kernelspec": {
   "display_name": "Python 3",
   "language": "python",
   "name": "python3"
  },
  "language_info": {
   "codemirror_mode": {
    "name": "ipython",
    "version": 3
   },
   "file_extension": ".py",
   "mimetype": "text/x-python",
   "name": "python",
   "nbconvert_exporter": "python",
   "pygments_lexer": "ipython3",
   "version": "3.8.3"
  }
 },
 "nbformat": 4,
 "nbformat_minor": 5
}
