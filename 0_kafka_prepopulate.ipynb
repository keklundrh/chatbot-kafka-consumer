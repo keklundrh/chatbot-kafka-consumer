{
 "cells": [
  {
   "cell_type": "code",
   "execution_count": null,
   "id": "8c3fb072-b9a9-4970-8a07-3c31ccb40844",
   "metadata": {},
   "outputs": [],
   "source": [
    "!pip install -U -r requirements.txt"
   ]
  },
  {
   "cell_type": "code",
   "execution_count": null,
   "id": "1488deb3-6d89-41b7-acfb-aa04609a339e",
   "metadata": {},
   "outputs": [],
   "source": [
    "import json\n",
    "import os\n",
    "import random\n",
    "import time\n",
    "from kafka import KafkaProducer"
   ]
  },
  {
   "cell_type": "code",
   "execution_count": null,
   "id": "518b3fd5-6689-448d-b6a1-d92df8c57764",
   "metadata": {},
   "outputs": [],
   "source": [
    "\n",
    "\n",
    "KAFKA_BOOTSTRAP_SERVER = os.environ.get('KAFKA_BOOTSTRAP_SERVER')\n",
    "KAFKA_SECURITY_PROTOCOL = os.environ.get('KAFKA_SECURITY_PROTOCOL')\n",
    "KAFKA_SASL_MECHANISM = os.environ.get('KAFKA_SASL_MECHANISM')\n",
    "KAFKA_USERNAME = os.environ.get('KAFKA_USERNAME')\n",
    "KAFKA_PASSWORD = os.environ.get('KAFKA_PASSWORD')\n",
    "\n",
    "KAFKA_TOPIC_NOTEBOOKS = 'messages'\n"
   ]
  },
  {
   "cell_type": "code",
   "execution_count": null,
   "id": "60560254-a609-4b99-a05c-8ff7fe1d4428",
   "metadata": {},
   "outputs": [],
   "source": [
    "\n",
    "\n",
    "producer = KafkaProducer(bootstrap_servers=[KAFKA_BOOTSTRAP_SERVER],\n",
    "                            security_protocol=KAFKA_SECURITY_PROTOCOL,\n",
    "                            sasl_mechanism=KAFKA_SASL_MECHANISM,\n",
    "                            sasl_plain_username=KAFKA_USERNAME,\n",
    "                            sasl_plain_password=KAFKA_PASSWORD,\n",
    "                            api_version_auto_timeout_ms=30000,\n",
    "                            max_block_ms=900000,\n",
    "                            request_timeout_ms=450000,\n",
    "                            acks='all')\n",
    "\n",
    "with open('testdata1.csv') as csv:\n",
    "    for message in csv:\n",
    "        jsonpayload = json.dumps(\n",
    "            {'customer_number': random.randint(1, 1000), \n",
    "             'txt': message.rsplit(',', 1)[0],\n",
    "            }\n",
    "        )\n",
    "        producer.send(KAFKA_TOPIC_NOTEBOOKS, jsonpayload.encode('utf-8'))\n",
    "\n",
    "producer.flush() # Important, especially if message size is small\n",
    "\n",
    "\n"
   ]
  },
  {
   "cell_type": "code",
   "execution_count": null,
   "id": "18ca07f3-9cef-40fb-b723-b1f9829d1e0f",
   "metadata": {},
   "outputs": [],
   "source": []
  }
 ],
 "metadata": {
  "kernelspec": {
   "display_name": "Python 3",
   "language": "python",
   "name": "python3"
  },
  "language_info": {
   "codemirror_mode": {
    "name": "ipython",
    "version": 3
   },
   "file_extension": ".py",
   "mimetype": "text/x-python",
   "name": "python",
   "nbconvert_exporter": "python",
   "pygments_lexer": "ipython3",
   "version": "3.8.6"
  }
 },
 "nbformat": 4,
 "nbformat_minor": 5
}
