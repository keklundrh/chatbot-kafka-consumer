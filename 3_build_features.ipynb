{
 "cells": [
  {
   "cell_type": "code",
   "execution_count": null,
   "id": "6b2fb7e4-2a91-4fa5-a547-44d30665bf24",
   "metadata": {},
   "outputs": [],
   "source": [
    "!pip install -U -r requirements.txt"
   ]
  },
  {
   "cell_type": "code",
   "execution_count": null,
   "id": "b002ccbd-a144-468d-b3bb-67bf47cd3fb1",
   "metadata": {},
   "outputs": [],
   "source": [
    "import os \n",
    "import prestodb \n",
    "import pandas \n",
    "import sqlalchemy"
   ]
  },
  {
   "cell_type": "code",
   "execution_count": null,
   "id": "47a2c7f2-cc94-4fc7-acca-7360ca9f93e0",
   "metadata": {},
   "outputs": [],
   "source": [
    "PRESTO_SERVER = os.environ.get('PRESTO_SERVER')\n",
    "PRESTO_USER= os.environ.get('PRESTO_USER')\n",
    "PRESTO_PORT= os.environ.get('PRESTO_PORT')\n",
    "PRESTO_CATALOG= os.environ.get('PRESTO_CATALOG')"
   ]
  },
  {
   "cell_type": "code",
   "execution_count": null,
   "id": "88507518-183c-4738-9f60-81af1d8b1611",
   "metadata": {},
   "outputs": [],
   "source": [
    "engine = sqlalchemy.create_engine(\"presto://%s@%s:%d/%s\" %(PRESTO_USER, PRESTO_SERVER, 80, PRESTO_CATALOG))\n",
    "pandas.read_sql('SHOW CATALOGS', engine)"
   ]
  },
  {
   "cell_type": "code",
   "execution_count": null,
   "id": "969f275c-4cd1-4794-a1d0-ebf2c9e9340e",
   "metadata": {},
   "outputs": [],
   "source": [
    "sql = '''\n",
    "\n",
    "select \n",
    "    c.id, \n",
    "    c.customername, \n",
    "    c.customeraddr, \n",
    "    c.mktsegment, \n",
    "    c.status, \n",
    "    SUM(o.amount) as sum_purchased\n",
    "FROM \"customer-domain\".public.customer c \n",
    "JOIN \"finance-domain\".public.transactions o ON c.id = o.customerid\n",
    "GROUP BY c.id, c.customername, c.customeraddr, c.mktsegment, c.status\n",
    "ORDER BY sum_purchased DESC\n",
    "\n",
    "'''\n",
    "\n",
    "df = pandas.read_sql(sql, engine)\n",
    "df.head()"
   ]
  },
  {
   "cell_type": "code",
   "execution_count": null,
   "id": "5792bed2-dc68-4887-aee4-b77caeae2558",
   "metadata": {},
   "outputs": [],
   "source": [
    "# clean and extract JSON message on kafka queue first \n",
    "# then LEFT JOIN to customer and finance domains\n",
    "sql = '''\n",
    "\n",
    "WITH KAFKA AS (\n",
    "    select JSON_EXTRACT(_message, '$.customer_number') as id, \n",
    "           JSON_EXTRACT(_message, '$.txt') as txt \n",
    "    from \"notebook-test\") \n",
    "\n",
    "select distinct \n",
    "    c.id, \n",
    "    c.customername, \n",
    "    c.mktsegment, \n",
    "    SUM(o.amount) as sum_purchased, \n",
    "    COUNT(k.txt) as message_count\n",
    "FROM \"customer-domain\".public.customer c \n",
    "JOIN \"finance-domain\".public.transactions o ON c.id = o.customerid\n",
    "LEFT JOIN KAFKA k on o.customerid = CAST(k.id AS INTEGER)\n",
    "GROUP BY c.id, c.customername, c.mktsegment, k.txt\n",
    "ORDER BY sum_purchased DESC\n",
    "\n",
    "'''\n",
    "df = pandas.read_sql(sql, engine)\n",
    "df.head()"
   ]
  },
  {
   "cell_type": "code",
   "execution_count": null,
   "id": "5615038a-9c54-4ac0-b913-ee85f00b959d",
   "metadata": {
    "tags": []
   },
   "outputs": [],
   "source": [
    "# use SQL to build features accross domains without making extracts or copies\n",
    "sql = '''\n",
    "\n",
    "WITH KAFKA AS (\n",
    "    select JSON_EXTRACT(_message, '$.customer_number') as id, \n",
    "           JSON_EXTRACT(_message, '$.txt') as txt \n",
    "    from \"notebook-test\") \n",
    "\n",
    "select distinct \n",
    "    c.id, \n",
    "    c.customername, \n",
    "    c.mktsegment, \n",
    "    day(current_date - c.effectivedate) AS days_active,\n",
    "    MAX(o.amount) AS max_prch,\n",
    "    MIN(o.amount) AS min_prch,\n",
    "    AVG(o.amount) AS mean_prch,\n",
    "    COUNT(o.amount) AS count_prch,\n",
    "    SUM(o.amount) as sum_purchased, \n",
    "    COUNT(k.txt) as message_count\n",
    "FROM \"customer-domain\".public.customer c \n",
    "JOIN \"finance-domain\".public.transactions o ON c.id = o.customerid\n",
    "LEFT JOIN KAFKA k on o.customerid = CAST(k.id AS INTEGER)\n",
    "WHERE c.status > 0\n",
    "GROUP BY c.id, c.customername, c.mktsegment, k.txt, day(current_date - c.effectivedate)\n",
    "ORDER BY sum_purchased DESC\n",
    "\n",
    "\n",
    "'''\n",
    "df = pandas.read_sql(sql, engine)\n",
    "df.head()"
   ]
  },
  {
   "cell_type": "code",
   "execution_count": null,
   "id": "28c81e9a-e080-4468-a8de-551371fdad6c",
   "metadata": {},
   "outputs": [],
   "source": []
  }
 ],
 "metadata": {
  "kernelspec": {
   "display_name": "Python 3",
   "language": "python",
   "name": "python3"
  },
  "language_info": {
   "codemirror_mode": {
    "name": "ipython",
    "version": 3
   },
   "file_extension": ".py",
   "mimetype": "text/x-python",
   "name": "python",
   "nbconvert_exporter": "python",
   "pygments_lexer": "ipython3",
   "version": "3.8.3"
  }
 },
 "nbformat": 4,
 "nbformat_minor": 5
}
